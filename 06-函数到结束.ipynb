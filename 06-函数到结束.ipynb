{
 "cells": [
  {
   "cell_type": "markdown",
   "metadata": {},
   "source": [
    "# 四类参数\n",
    "- 普通参数\n",
    "- 默认参数\n",
    "- 关键字参数\n",
    "- 收集参数\n"
   ]
  },
  {
   "cell_type": "code",
   "execution_count": 5,
   "metadata": {},
   "outputs": [
    {
     "name": "stdout",
     "output_type": "stream",
     "text": [
      "I am a student\n",
      "我叫18,我今年李四岁了，我住西安\n",
      "I am a student\n",
      "我叫李四,我今年18岁了，我住西安\n"
     ]
    }
   ],
   "source": [
    "#关键字参数实例\n",
    "def stu(name, age, addr):\n",
    "    print(\"I am a student\")\n",
    "    print(\"我叫{0},我今年{1}岁了，我住{2}\".format(name,age,addr))\n",
    "n = \"李四\"\n",
    "a = 18\n",
    "addr = \"西安\"\n",
    "\n",
    "#普通参数，只按照位置传递，容易出错\n",
    "stu(a, n, addr)\n",
    "\n",
    "\n",
    "def stu_key(name=\"noname\", age=\"noage\", addr=\"noaddr\"):\n",
    "    print(\"I am a student\")\n",
    "    print(\"我叫{0},我今年{1}岁了，我住{2}\".format(name,age,addr))\n",
    "n = \"李四\"\n",
    "a = 18\n",
    "addr = \"西安\"\n",
    "\n",
    "#关键字参数不容易出错\n",
    "stu(age=a, name=n, addr=addr)"
   ]
  },
  {
   "cell_type": "code",
   "execution_count": 7,
   "metadata": {},
   "outputs": [
    {
     "name": "stdout",
     "output_type": "stream",
     "text": [
      "hello everyone\n",
      "<class 'tuple'>\n",
      "lili\n",
      "18\n",
      "陕西西安\n",
      "male\n",
      "single\n"
     ]
    }
   ],
   "source": [
    "#收集参数代码\n",
    "#args把他看成一个list\n",
    "def stu(*args):\n",
    "    print(\"hello everyone\")\n",
    "    print(type(args))\n",
    "    for item in args:\n",
    "        print(item)\n",
    "\n",
    "stu(\"lili\", 18, \"陕西西安\", \"male\", \"single\")"
   ]
  },
  {
   "cell_type": "markdown",
   "metadata": {},
   "source": [
    "### 收集参数混合调用的问题\n",
    "- 收集参数，关键字参数，普通参数可以混合使用\n",
    "- 使用顺序是普通参数和关键字参数优先\n",
    "- 定义的时候一般找普通函数，关键字参数，收集参数tuple，收集参数dict\n"
   ]
  },
  {
   "cell_type": "code",
   "execution_count": 17,
   "metadata": {},
   "outputs": [
    {
     "name": "stdout",
     "output_type": "stream",
     "text": [
      "Hello 大家好\n",
      "我叫大张,我今年22岁了，\n",
      "我的爱好是游泳\n",
      "********************\n",
      "王大治\n",
      "嚯嚯嚯\n",
      "####################\n",
      "hobby2 --- 烹饪\n",
      "hobby3 --- 聊骚\n"
     ]
    }
   ],
   "source": [
    "# 收集参数混合使用案例\n",
    "# stu模拟一个学生的自我介绍\n",
    "def stu(name, age, *args, hobby=\" \", **kwargs):\n",
    "    print(\"Hello 大家好\")\n",
    "    print(\"我叫{0},我今年{1}岁了，\".format(name,age))\n",
    "    if hobby == \" \":\n",
    "        print(\"我没有爱好\")\n",
    "    else:\n",
    "        print(\"我的爱好是{0}\".format(hobby))\n",
    "    print(\"*\" * 20)\n",
    "    \n",
    "    for i in args:\n",
    "        print(i)\n",
    "    print(\"#\" * 20)\n",
    "    \n",
    "    for k,v in kwargs.items():\n",
    "        print(k, \"---\", v)\n",
    "\n",
    "            \n",
    "#调用函数 \n",
    "name = \"大张\"\n",
    "age = 22\n",
    "\n",
    "stu(name, age, \"王大治\", \"嚯嚯嚯\", hobby=\"游泳\", hobby2=\"烹饪\", hobby3=\"聊骚\")\n",
    "        \n"
   ]
  },
  {
   "cell_type": "markdown",
   "metadata": {},
   "source": [
    "### 收集参数的解包问题\n"
   ]
  },
  {
   "cell_type": "markdown",
   "metadata": {},
   "source": [
    "# 函数文档\n",
    "- 函数的文档的作用是对当前的函数提供使用的相关信息\n",
    "- 文档的写法：\n",
    "    - 在函数内部开始的第一行使用三字符串定义符\n",
    "    - 一般具有特定格式\n",
    "    - 参看案例\n",
    "- 文档查看\n",
    "    - 使用help函数，形如 help(func)\n",
    "    - 使用__doc__\n",
    "    "
   ]
  },
  {
   "cell_type": "code",
   "execution_count": 22,
   "metadata": {},
   "outputs": [],
   "source": [
    "# 文档案例\n",
    "# 函数stu是模拟一个学生的自我介绍的内容\n",
    "\n",
    "def stu(name, age, *args):\n",
    "    '''\n",
    "    这是第一行\n",
    "    这是第二行\n",
    "    这是第三行\n",
    "    '''\n",
    "    print(\"This is a hanshu stu\")"
   ]
  },
  {
   "cell_type": "code",
   "execution_count": 23,
   "metadata": {},
   "outputs": [
    {
     "name": "stdout",
     "output_type": "stream",
     "text": [
      "Help on function stu in module __main__:\n",
      "\n",
      "stu(name, age, *args)\n",
      "    这是第一行\n",
      "    这是第二行\n",
      "    这是第三行\n",
      "\n"
     ]
    },
    {
     "data": {
      "text/plain": [
       "'\\n    这是第一行\\n    这是第二行\\n    这是第三行\\n    '"
      ]
     },
     "execution_count": 23,
     "metadata": {},
     "output_type": "execute_result"
    }
   ],
   "source": [
    "help(stu)\n",
    "\n",
    "stu.__doc__\n"
   ]
  },
  {
   "cell_type": "code",
   "execution_count": null,
   "metadata": {},
   "outputs": [],
   "source": []
  }
 ],
 "metadata": {
  "kernelspec": {
   "display_name": "Python 3",
   "language": "python",
   "name": "python3"
  },
  "language_info": {
   "codemirror_mode": {
    "name": "ipython",
    "version": 3
   },
   "file_extension": ".py",
   "mimetype": "text/x-python",
   "name": "python",
   "nbconvert_exporter": "python",
   "pygments_lexer": "ipython3",
   "version": "3.7.0"
  }
 },
 "nbformat": 4,
 "nbformat_minor": 2
}
