{
 "cells": [
  {
   "cell_type": "markdown",
   "metadata": {},
   "source": [
    "# 汉诺塔问题\n",
    "- 每次移动一个盘子\n",
    "- 任何时候大盘子在下，小盘子在上\n"
   ]
  },
  {
   "cell_type": "code",
   "execution_count": 13,
   "metadata": {},
   "outputs": [
    {
     "name": "stdout",
     "output_type": "stream",
     "text": [
      "A --> C\n",
      "A --> B\n",
      "C --> B\n",
      "A --> C\n",
      "B --> A\n",
      "B --> C\n",
      "A --> C\n",
      "A --> B\n",
      "C --> B\n",
      "C --> A\n",
      "B --> A\n",
      "C --> B\n",
      "A --> C\n",
      "A --> B\n",
      "C --> B\n",
      "A --> C\n",
      "B --> A\n",
      "B --> C\n",
      "A --> C\n",
      "B --> A\n",
      "C --> B\n",
      "C --> A\n",
      "B --> A\n",
      "B --> C\n",
      "A --> C\n",
      "A --> B\n",
      "C --> B\n",
      "A --> C\n",
      "B --> A\n",
      "B --> C\n",
      "A --> C\n"
     ]
    }
   ],
   "source": [
    "def hano(n, a, b, c):\n",
    "    if n == 1:\n",
    "        print(a,'-->',c)\n",
    "        return None\n",
    "    \n",
    "    if n == 2:\n",
    "        print(a,'-->',b)\n",
    "        print(a,'-->',c)\n",
    "        print(b,'-->',c)\n",
    "        return None\n",
    "    \n",
    "    if n == 3:\n",
    "        print(a,'-->',c)\n",
    "        print(a,'-->',b)\n",
    "        print(c,'-->',b)\n",
    "        print(a,'-->',c)\n",
    "        print(b,'-->',a)\n",
    "        print(b,'-->',c)\n",
    "        print(a,'-->',c)\n",
    "        return None\n",
    "        \n",
    "    #把n-1个盘子，从a塔借助于c塔，挪到b塔上\n",
    "    hano(n-1, a, c, b)\n",
    "    print(a,'-->',c)\n",
    "    #把n-1个盘子从b塔上挪到c塔\n",
    "    hano(n-1, b, a, c)\n",
    "\n",
    "a = 'A'\n",
    "b = 'B'\n",
    "c = 'C'\n",
    "\n",
    "\n",
    "n = 5\n",
    "hano(n,a,b,c)"
   ]
  },
  {
   "cell_type": "markdown",
   "metadata": {},
   "source": [
    "# list（列表）\n",
    "- del：删除\n"
   ]
  },
  {
   "cell_type": "code",
   "execution_count": 17,
   "metadata": {},
   "outputs": [
    {
     "name": "stdout",
     "output_type": "stream",
     "text": [
      "1911523297224\n",
      "****************************************\n",
      "1911523297224\n",
      "[1, 2, 4, 5]\n"
     ]
    }
   ],
   "source": [
    "# del 删除\n",
    "a = [1, 2, 3, 4, 5]\n",
    "print(id(a))\n",
    "print(\"*\"*40)\n",
    "del a[2]\n",
    "\n",
    "print(id(a))\n",
    "print(a)"
   ]
  },
  {
   "cell_type": "markdown",
   "metadata": {},
   "source": [
    "### 列表相加\n",
    "- 使用加号（+）连接两个列表\n",
    "- 使用乘号，操作列表"
   ]
  },
  {
   "cell_type": "code",
   "execution_count": 21,
   "metadata": {},
   "outputs": [
    {
     "name": "stdout",
     "output_type": "stream",
     "text": [
      "[1, 3, 5, 7, 9, 2, 4, 6, 8, 0]\n",
      "[2, 4, 6, 8, 0, 1, 3, 5, 7, 9]\n"
     ]
    }
   ],
   "source": [
    "a = [1,3,5,7,9]\n",
    "b = [2,4,6,8,0]\n",
    "c = a + b\n",
    "d = b + a\n",
    "print(c)\n",
    "print(d)\n"
   ]
  },
  {
   "cell_type": "code",
   "execution_count": 23,
   "metadata": {},
   "outputs": [
    {
     "name": "stdout",
     "output_type": "stream",
     "text": [
      "[1, 2, 3, 4, 1, 2, 3, 4, 1, 2, 3, 4]\n"
     ]
    }
   ],
   "source": [
    "# 列表直接和一个整数相乘，等于把n个列表链接在一起\n",
    "a = [1,2,3,4]\n",
    "b = a * 3\n",
    "print(b)"
   ]
  },
  {
   "cell_type": "code",
   "execution_count": 25,
   "metadata": {},
   "outputs": [
    {
     "name": "stdout",
     "output_type": "stream",
     "text": [
      "True\n",
      "False\n"
     ]
    }
   ],
   "source": [
    "# 成员资格运算 in\n",
    "# 就是判断一个元素是否在List里面\n",
    "a = [1,2,3,4,5,6,7]\n",
    "b = 4\n",
    "\n",
    "# c的值一定是一个布尔值\n",
    "c = b in a\n",
    "print(c)\n",
    "\n",
    "b = 8 \n",
    "print(b in a)"
   ]
  },
  {
   "cell_type": "code",
   "execution_count": 27,
   "metadata": {},
   "outputs": [
    {
     "name": "stdout",
     "output_type": "stream",
     "text": [
      "True\n"
     ]
    }
   ],
   "source": [
    "# not in\n",
    "a = [1,2,3,4,5,]\n",
    "b = 9\n",
    "print(b not in a)"
   ]
  },
  {
   "cell_type": "markdown",
   "metadata": {},
   "source": [
    "# 列表的遍历\n",
    "- for\n",
    "- while"
   ]
  },
  {
   "cell_type": "code",
   "execution_count": 35,
   "metadata": {},
   "outputs": [
    {
     "name": "stdout",
     "output_type": "stream",
     "text": [
      "1 2 3 4 5 6 7 8 9 "
     ]
    }
   ],
   "source": [
    "# for in list\n",
    "a = [1,2,3,4,5,6,7,8,9]\n",
    "for i in a:\n",
    "    print(i,end=' ') "
   ]
  },
  {
   "cell_type": "code",
   "execution_count": 37,
   "metadata": {},
   "outputs": [
    {
     "name": "stdout",
     "output_type": "stream",
     "text": [
      "i love china\n"
     ]
    }
   ],
   "source": [
    "a = [\"i love china\"]\n",
    "for i in a:\n",
    "    print(i)"
   ]
  },
  {
   "cell_type": "code",
   "execution_count": 40,
   "metadata": {},
   "outputs": [
    {
     "name": "stdout",
     "output_type": "stream",
     "text": [
      "1 2 3 4 5 6 7 8 9 "
     ]
    }
   ],
   "source": [
    "# range\n",
    "# in 后面的变量要求必须是可迭代的\n",
    "\n",
    "for i in range(1,10):\n",
    "    print(i,end=\" \")"
   ]
  },
  {
   "cell_type": "code",
   "execution_count": 8,
   "metadata": {},
   "outputs": [
    {
     "name": "stdout",
     "output_type": "stream",
     "text": [
      "4\n",
      "5\n",
      "6\n",
      "7\n",
      "88\n"
     ]
    }
   ],
   "source": [
    "# java，或者c++写出来的可能是这样\n",
    "a = [4,5,6,7,88]\n",
    "for i in range(0,len(a)):\n",
    "    print(a[i])\n",
    "    i += 1"
   ]
  },
  {
   "cell_type": "code",
   "execution_count": 2,
   "metadata": {},
   "outputs": [
    {
     "name": "stdout",
     "output_type": "stream",
     "text": [
      "1 2 3 4 5 5 6 6 "
     ]
    }
   ],
   "source": [
    "# while循环访问list\n",
    "# 一般情况下不用while遍历list\n",
    "a = [1,2,3,4,5,5,6,6,]\n",
    "length = len(a)\n",
    "\n",
    "# index 表示list的下标\n",
    "index = 0\n",
    "while index < length:\n",
    "    print(a[index],end=\" \")\n",
    "    index += 1"
   ]
  },
  {
   "cell_type": "code",
   "execution_count": 4,
   "metadata": {},
   "outputs": [
    {
     "name": "stdout",
     "output_type": "stream",
     "text": [
      "one -- 1\n",
      "two -- 2\n",
      "three -- 3\n",
      "four -- 4\n",
      "one == 1\n",
      "two == 2\n",
      "three == 3\n",
      "four == 4\n"
     ]
    }
   ],
   "source": [
    "# 双层列表循环\n",
    "a = [[\"one\",1],[\"two\",2],[\"three\",3],[\"four\",4]]\n",
    "for k,v in a:\n",
    "\n",
    "    print(k,\"--\",v)\n",
    "\n",
    "for m,n in a:\n",
    "    print(m,\"==\",n)"
   ]
  },
  {
   "cell_type": "code",
   "execution_count": 12,
   "metadata": {},
   "outputs": [
    {
     "name": "stdout",
     "output_type": "stream",
     "text": [
      "one -- 1 -- eins\n",
      "two -- 2 -- jadkl\n",
      "three -- 3 -- dkjafl\n",
      "four -- 4 -- dkjfd\n"
     ]
    }
   ],
   "source": [
    "# 双层列表循环变异\n",
    "a = [[\"one\",1,\"eins\"],[\"two\",2,\"jadkl\"],[\"three\",3,\"dkjafl\"],[\"four\",4,\"dkjfd\"]]\n",
    "for k,v,m in a:\n",
    "\n",
    "    print(k,\"--\",v,\"--\",m)\n"
   ]
  },
  {
   "cell_type": "markdown",
   "metadata": {},
   "source": [
    "# 列表内涵 list content\n",
    "\n",
    "- 通过简单的方法创建列表\n"
   ]
  },
  {
   "cell_type": "code",
   "execution_count": 15,
   "metadata": {},
   "outputs": [
    {
     "name": "stdout",
     "output_type": "stream",
     "text": [
      "['a', 'b', 'c']\n",
      "[10, 20, 30, 40, 50, 60]\n"
     ]
    }
   ],
   "source": [
    "# for创建\n",
    "a = [\"a\",\"b\",\"c\"]\n",
    "b = [i for i in a]\n",
    "print(b)\n",
    "# 对a列表中的数乘以10，生成新的list\n",
    "a = [1,2,3,4,5,6]\n",
    "b = [i*10 for i in a]\n",
    "print(b)"
   ]
  },
  {
   "cell_type": "code",
   "execution_count": 17,
   "metadata": {},
   "outputs": [
    {
     "name": "stdout",
     "output_type": "stream",
     "text": [
      "[2, 4, 6, 8, 10, 12, 14, 16, 18, 20, 22, 24, 26, 28, 30, 32, 34, 36, 38, 40, 42, 44, 46, 48]\n",
      "[1, 3, 5, 7, 9, 11, 13, 15, 17, 19, 21, 23, 25, 27, 29, 31, 33, 35, 37, 39, 41, 43, 45, 47, 49]\n"
     ]
    }
   ],
   "source": [
    "# 还可以过滤原来list中的内容放到新的list中\n",
    "# 比如原有列表a，把a中的偶数 生成新的列表b\n",
    "a = [i for i in range(1,50)] # 生成一个从1到49的列表\n",
    "b = [x for x in a if x % 2 == 0]\n",
    "c = [m for m in a if m % 2 == 1]\n",
    "\n",
    "print(b)\n",
    "print(c)"
   ]
  },
  {
   "cell_type": "code",
   "execution_count": 27,
   "metadata": {},
   "outputs": [
    {
     "name": "stdout",
     "output_type": "stream",
     "text": [
      "[1, 2, 3]\n",
      "[100, 200, 300]\n",
      "101 201 301 102 202 302 103 203 303 \n",
      "[101, 201, 102, 202, 103, 203]\n"
     ]
    }
   ],
   "source": [
    "# 列表生成式可以嵌套\n",
    "# 有两个列表a，b\n",
    "\n",
    "a = [i for i in range(1,4)]\n",
    "\n",
    "b = [m for m in range(100,400) if m % 100 == 0]\n",
    "\n",
    "print(a)\n",
    "print(b)\n",
    "# 列表可以嵌套\n",
    "c = [ m+n for m in a for n in b]\n",
    "\n",
    "# 上面的代码和下面的等价\n",
    "for m in a:\n",
    "    for n in b:\n",
    "        print(m+n,end=\" \")\n",
    "print()       \n",
    "# 嵌套列表也可以用条件表达式\n",
    "c = [ m+n for m in a for n in b if m+n < 250]\n",
    "print(c)"
   ]
  },
  {
   "cell_type": "markdown",
   "metadata": {},
   "source": [
    "# 关于列表的常用函数\n"
   ]
  },
  {
   "cell_type": "code",
   "execution_count": null,
   "metadata": {},
   "outputs": [],
   "source": [
    "# len：求列表的长度\n"
   ]
  }
 ],
 "metadata": {
  "kernelspec": {
   "display_name": "Python 3",
   "language": "python",
   "name": "python3"
  },
  "language_info": {
   "codemirror_mode": {
    "name": "ipython",
    "version": 3
   },
   "file_extension": ".py",
   "mimetype": "text/x-python",
   "name": "python",
   "nbconvert_exporter": "python",
   "pygments_lexer": "ipython3",
   "version": "3.7.0"
  }
 },
 "nbformat": 4,
 "nbformat_minor": 2
}
