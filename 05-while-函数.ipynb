{
 "cells": [
  {
   "cell_type": "markdown",
   "metadata": {},
   "source": [
    "# while循环\n",
    "- 一个循环语句\n",
    "- 当某个条件成立的时候，就循环\n",
    "- 不知道具体循环，但能确定循环条件是用while循环\n",
    "- while语法：\n",
    "            \n",
    "            while 条件表达式：\n",
    "                语句块"
   ]
  },
  {
   "cell_type": "code",
   "execution_count": 2,
   "metadata": {},
   "outputs": [
    {
     "name": "stdout",
     "output_type": "stream",
     "text": [
      "第1年拿了106700.0元钱\n",
      "第2年拿了113848.9元钱\n",
      "第3年拿了121476.77629999998元钱\n",
      "第4年拿了129615.72031209998元钱\n",
      "第5年拿了138299.97357301068元钱\n",
      "第6年拿了147566.07180240238元钱\n",
      "第7年拿了157452.99861316333元钱\n",
      "第8年拿了168002.34952024528元钱\n",
      "第9年拿了179258.5069381017元钱\n",
      "第10年拿了191268.8269029545元钱\n",
      "第11年拿了204083.83830545243元钱\n"
     ]
    }
   ],
   "source": [
    "#如果设年利率是6.7%，本利是每年翻滚，则多少年后本钱会翻倍\n",
    "\n",
    "benqian = 100000\n",
    "year = 0\n",
    "while benqian < 200000:\n",
    "    benqian = benqian * (1+0.067)\n",
    "    year +=1\n",
    "    print(\"第{0}年拿了{1}元钱\".format(year,benqian))"
   ]
  },
  {
   "cell_type": "markdown",
   "metadata": {},
   "source": [
    "# 函数\n",
    "- 代码的一种组织形式\n",
    "- 一个函数一般完成一项特定的功能\n",
    "- 函数使用\n",
    "    - 函数需要先定义\n",
    "    - 使用函数，俗称调用"
   ]
  },
  {
   "cell_type": "code",
   "execution_count": 3,
   "metadata": {},
   "outputs": [],
   "source": [
    "# 定义一个函数\n",
    "# 只是定义的时候不会执行\n",
    "#1. def是关键字，后边跟一个空格\n",
    "#2. 函数名，自己定义，起名要遵循命名规则，约定俗成，大驼峰命名只给类用\n",
    "#3.后面跟的括号和冒号不能生，括号内可以有 参数\n",
    "#4.函数内所有代码缩进\n",
    "\n",
    "def func():\n",
    "    print(\"我是一个函数\")\n",
    "    print(\"我要完成一个特定的功能\")\n",
    "    "
   ]
  },
  {
   "cell_type": "code",
   "execution_count": 4,
   "metadata": {},
   "outputs": [
    {
     "name": "stdout",
     "output_type": "stream",
     "text": [
      "我是一个函数\n",
      "我要完成一个特定的功能\n"
     ]
    }
   ],
   "source": [
    "# 函数的调用\n",
    "func()"
   ]
  },
  {
   "cell_type": "markdown",
   "metadata": {},
   "source": [
    "### 函数的参数和返回值\n",
    "- 参数：负责给一个函数传递一些必要的数据或者信息\n",
    "    - 形参：在函数定义的时候用到的参数没有具体值，只是一个占位的符号，称为形参\n",
    "    - 实参：在调用函数时候输入的值\n",
    "- 返回值：函数的执行结果\n",
    "    - 使用return关键字\n",
    "    - 如果没有return，默认返回一个None\n",
    "    - 函数一旦执行return语句，则无条件返回"
   ]
  },
  {
   "cell_type": "code",
   "execution_count": 6,
   "metadata": {},
   "outputs": [
    {
     "name": "stdout",
     "output_type": "stream",
     "text": [
      "王麻子,你咋啦？\n",
      "Sir,不理我我就颠儿了\n"
     ]
    }
   ],
   "source": [
    "# 参数的定义和使用\n",
    "\n",
    "def hello(persen):\n",
    "    print(\"{0},你咋啦？\".format(persen))\n",
    "    print(\"Sir,不理我我就颠儿了\")\n",
    "\n",
    "p=\"王麻子\"\n",
    "hello(p)\n",
    "    "
   ]
  },
  {
   "cell_type": "code",
   "execution_count": 10,
   "metadata": {},
   "outputs": [
    {
     "name": "stdout",
     "output_type": "stream",
     "text": [
      "王麻子,你咋啦？\n",
      "Sir,不理我我就颠儿了\n",
      "我已经和王麻子打过招呼了，王麻子不理我\n"
     ]
    }
   ],
   "source": [
    "#return 语句的基本使用\n",
    "# 函数打完招呼后返回一句话\n",
    "def hello(persen):\n",
    "    print(\"{0},你咋啦？\".format(persen))\n",
    "    print(\"Sir,不理我我就颠儿了\")\n",
    "    \n",
    "    return \"我已经和{0}打过招呼了，{1}不理我\".format(persen,persen)\n",
    "\n",
    "p=\"王麻子\"\n",
    "rst = hello(p)\n",
    "print(rst)"
   ]
  },
  {
   "cell_type": "code",
   "execution_count": 26,
   "metadata": {},
   "outputs": [
    {
     "name": "stdout",
     "output_type": "stream",
     "text": [
      "5\n"
     ]
    }
   ],
   "source": [
    "def sum(a,b):\n",
    "    return a+b\n",
    "\n",
    "rst = sum(2,3)\n",
    "print(rst)"
   ]
  },
  {
   "cell_type": "code",
   "execution_count": 25,
   "metadata": {},
   "outputs": [
    {
     "name": "stdout",
     "output_type": "stream",
     "text": [
      "1X1=1 \n",
      "1X2=2 2X2=4 \n",
      "1X3=3 2X3=6 3X3=9 \n",
      "1X4=4 2X4=8 3X4=12 4X4=16 \n",
      "1X5=5 2X5=10 3X5=15 4X5=20 5X5=25 \n",
      "1X6=6 2X6=12 3X6=18 4X6=24 5X6=30 6X6=36 \n",
      "1X7=7 2X7=14 3X7=21 4X7=28 5X7=35 6X7=42 7X7=49 \n",
      "1X8=8 2X8=16 3X8=24 4X8=32 5X8=40 6X8=48 7X8=56 8X8=64 \n",
      "1X9=9 2X9=18 3X9=27 4X9=36 5X9=45 6X9=54 7X9=63 8X9=72 9X9=81 \n",
      "1X1=1 \n",
      "1X2=2 2X2=4 \n",
      "1X3=3 2X3=6 3X3=9 \n",
      "1X4=4 2X4=8 3X4=12 4X4=16 \n",
      "1X5=5 2X5=10 3X5=15 4X5=20 5X5=25 \n",
      "1X6=6 2X6=12 3X6=18 4X6=24 5X6=30 6X6=36 \n",
      "1X7=7 2X7=14 3X7=21 4X7=28 5X7=35 6X7=42 7X7=49 \n",
      "1X8=8 2X8=16 3X8=24 4X8=32 5X8=40 6X8=48 7X8=56 8X8=64 \n",
      "1X9=9 2X9=18 3X9=27 4X9=36 5X9=45 6X9=54 7X9=63 8X9=72 9X9=81 \n",
      "1X1=1 \n",
      "1X2=2 2X2=4 \n",
      "1X3=3 2X3=6 3X3=9 \n",
      "1X4=4 2X4=8 3X4=12 4X4=16 \n",
      "1X5=5 2X5=10 3X5=15 4X5=20 5X5=25 \n",
      "1X6=6 2X6=12 3X6=18 4X6=24 5X6=30 6X6=36 \n",
      "1X7=7 2X7=14 3X7=21 4X7=28 5X7=35 6X7=42 7X7=49 \n",
      "1X8=8 2X8=16 3X8=24 4X8=32 5X8=40 6X8=48 7X8=56 8X8=64 \n",
      "1X9=9 2X9=18 3X9=27 4X9=36 5X9=45 6X9=54 7X9=63 8X9=72 9X9=81 \n"
     ]
    }
   ],
   "source": [
    "#九九乘法表,写法一\n",
    "\n",
    "#end=' '用来阻止换行\n",
    "#用空的print来消掉end，实现换行\n",
    "\n",
    "for i in range(1,10):\n",
    "    for m in range(1,10):\n",
    "        if m>i:\n",
    "            break\n",
    "        else:\n",
    "            print(\"%sX%s=%s\"%(m,i,i*m),end=' ')#end=' '用来阻止换行\n",
    "    print()#用空的print来消掉end，实现换行\n",
    "\n",
    "#写法二\n",
    "for i in range(1,10):\n",
    "    for m in range(1,10):\n",
    "        if i>=m:\n",
    "            print(\"%sX%s=%s\"%(m,i,i*m), end=' ')\n",
    "    print()\n",
    "\n",
    "#写法三\n",
    "\n",
    "for i in range(1,10):\n",
    "    for m in range(1,i+1):\n",
    "         print(\"%sX%s=%s\"%(m,i,i*m), end=' ')\n",
    "    print()"
   ]
  },
  {
   "cell_type": "code",
   "execution_count": 28,
   "metadata": {},
   "outputs": [
    {
     "name": "stdout",
     "output_type": "stream",
     "text": [
      "Help on built-in function print in module builtins:\n",
      "\n",
      "print(...)\n",
      "    print(value, ..., sep=' ', end='\\n', file=sys.stdout, flush=False)\n",
      "    \n",
      "    Prints the values to a stream, or to sys.stdout by default.\n",
      "    Optional keyword arguments:\n",
      "    file:  a file-like object (stream); defaults to the current sys.stdout.\n",
      "    sep:   string inserted between values, default a space.\n",
      "    end:   string appended after the last value, default a newline.\n",
      "    flush: whether to forcibly flush the stream.\n",
      "\n"
     ]
    }
   ],
   "source": [
    "help(print)"
   ]
  },
  {
   "cell_type": "markdown",
   "metadata": {},
   "source": [
    "## 参数详解：\n",
    "- 【参考资料】（http://www.cnblogs.com/bingabcd/p/6671368.html）\n",
    "- Python参考资料：headfirst python -->零基础入门python（小甲鱼）-->习题-->后期可考虑腾讯公开免费课\n",
    "\n"
   ]
  },
  {
   "cell_type": "code",
   "execution_count": 38,
   "metadata": {
    "scrolled": true
   },
   "outputs": [],
   "source": [
    "#默认参数示例\n",
    "#报名函数，需要知道姓名 性别\n",
    "#学习python一般是男生，所以报名时候没有特别指定，我们认为是男生\n",
    "def reg(name,age,gender='male'):\n",
    "    if gender==\"male\":\n",
    "        print(\"{0} is {1} years old,and he is a good stuudent\".format(name,age))\n",
    "    else:\n",
    "        print(\"{0}is{1} years old,and she is a good stuudent\".format(name,age))\n",
    "        \n"
   ]
  },
  {
   "cell_type": "code",
   "execution_count": 39,
   "metadata": {},
   "outputs": [
    {
     "name": "stdout",
     "output_type": "stream",
     "text": [
      "臭屁蛋 is 22 years old,and he is a good stuudent\n"
     ]
    }
   ],
   "source": [
    "#使用默认参数调用函数案例1\n",
    "reg(\"臭屁蛋\",22)"
   ]
  },
  {
   "cell_type": "code",
   "execution_count": 41,
   "metadata": {},
   "outputs": [
    {
     "name": "stdout",
     "output_type": "stream",
     "text": [
      "花花is22 years old,and she is a good stuudent\n"
     ]
    }
   ],
   "source": [
    "reg(\"花花\",22,'famale')"
   ]
  }
 ],
 "metadata": {
  "kernelspec": {
   "display_name": "Python 3",
   "language": "python",
   "name": "python3"
  },
  "language_info": {
   "codemirror_mode": {
    "name": "ipython",
    "version": 3
   },
   "file_extension": ".py",
   "mimetype": "text/x-python",
   "name": "python",
   "nbconvert_exporter": "python",
   "pygments_lexer": "ipython3",
   "version": "3.7.0"
  }
 },
 "nbformat": 4,
 "nbformat_minor": 2
}
