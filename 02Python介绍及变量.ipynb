{
 "cells": [
  {
   "cell_type": "markdown",
   "metadata": {},
   "source": [
    "# Python基础\n",
    "## Python概述\n",
    "- 计算机语言概述\n",
    "    - 计算机语言：人跟计算机交流的工具，翻译官\n",
    "    - Python是计算机语言的一种\n",
    "    - Python是一种编程语言\n",
    "        - 代码：人类语言，通过代码命令计算机，跟机器交流\n",
    "        - Python解释器：就是担任翻译工作的二狗子同学\n",
    "        - 流程：\n",
    "            - 写代码\n",
    "            - 执行：有翻译官（Python解释器）把命令翻译给机器，同时把机器结果翻译给我们\n",
    "    - Python简史：\n",
    "        - 2017:AI元年\n",
    "    - Python的应用领域\n",
    "        - 全能\n",
    "        - 设计哲学：平衡发展样样通，简洁明了\n",
    "            "
   ]
  },
  {
   "cell_type": "markdown",
   "metadata": {},
   "source": [
    "# 注释\n",
    "- 注释的写法：\n",
    "    - 行注释：以井号键开头，也可以在某行代码后边\n",
    "    - 块注释：好几行代码或者内容,以三个连续单引号开始和结束，中间的内容全忽略"
   ]
  },
  {
   "cell_type": "code",
   "execution_count": 5,
   "metadata": {},
   "outputs": [
    {
     "name": "stdout",
     "output_type": "stream",
     "text": [
      "dakfjald\n"
     ]
    }
   ],
   "source": [
    "#注释行的写法\n",
    "#注释是给人看的语言\n",
    "'''\n",
    "这是块注释，里面的任何内容机器都不管\n",
    "可以写好多\n",
    "print(\"alkdjfalkdj\")\n",
    "'''\n",
    "print(\"dakfjald\")\n"
   ]
  },
  {
   "cell_type": "markdown",
   "metadata": {},
   "source": [
    "# 变量\n",
    "- 程序=数据结构+算法\n",
    "- 变量就是一个可以重复利用的量，或者叫一个代号\n",
    "- 变量命名的规则：\n",
    "    - 变量命名可以包含数字，大小写字母，下划线或者更多，但是我们强烈不推荐前三种之外的符号\n",
    "    - 数字不可以打头\n",
    "        - 4man，5for是不可以的\n",
    "        - man4，for5 是可以的\n",
    "    - 一般在python中，以下划线开头的内容具有特殊的含义，不建议使用\n",
    "        - 比如 _age, _name,理论可以，但是强烈不推荐\n",
    "    - 大小写不一样\n",
    "        - Forman 跟forMan 不是一个变量名\n",
    "    - 推荐\n",
    "        - 使用具有固定含义的英语单词或这缩写，srv=server skt=socket,一般以posix命名规则为主\n",
    "        - 驼峰命名法：\n",
    "            - 名称以单词自动连接，每个单词首字母大写\n",
    "                - 大驼峰，每个单词首字母大写\n",
    "                    - 在python中给类名命名使用此法\n",
    "                    - MyFirstLove\n",
    "                - 小驼峰，第一个字母小写\n",
    "                    - 在python中一般给普通变量或者函数命名\n",
    "                    - myFirstLove\n",
    "                - posix写法\n",
    "                    - 多个单词用下划线链接\n",
    "                    - 单词全部小写\n",
    "                    - my_first_love"
   ]
  },
  {
   "cell_type": "code",
   "execution_count": 8,
   "metadata": {},
   "outputs": [
    {
     "name": "stdout",
     "output_type": "stream",
     "text": [
      "['False', 'None', 'True', 'and', 'as', 'assert', 'async', 'await', 'break', 'class', 'continue', 'def', 'del', 'elif', 'else', 'except', 'finally', 'for', 'from', 'global', 'if', 'import', 'in', 'is', 'lambda', 'nonlocal', 'not', 'or', 'pass', 'raise', 'return', 'try', 'while', 'with', 'yield']\n"
     ]
    }
   ],
   "source": [
    "# 查看关键字的方法\n",
    "import keyword # 引入关键字模块\n",
    "print(keyword.kwlist)"
   ]
  },
  {
   "cell_type": "markdown",
   "metadata": {},
   "source": [
    "## 变量声明\n",
    "- var_name = var_value\n",
    "- var1 = var2 = var3 = var_value"
   ]
  },
  {
   "cell_type": "code",
   "execution_count": 9,
   "metadata": {},
   "outputs": [
    {
     "name": "stdout",
     "output_type": "stream",
     "text": [
      "18\n",
      "19\n",
      "19\n",
      "19\n",
      "20\n",
      "21\n",
      "22\n"
     ]
    }
   ],
   "source": [
    "age=18\n",
    "print(age)\n",
    "\n",
    "age1=age2=age3=19\n",
    "print(age1)\n",
    "print(age2)\n",
    "print(age3)\n",
    "\n",
    "age4,age5,age6 = 20,21,22\n",
    "print(age4)\n",
    "print(age5)\n",
    "print(age6)\n"
   ]
  },
  {
   "cell_type": "markdown",
   "metadata": {},
   "source": [
    "## 变量类型\n",
    "- 严格意义上只有一种类型\n",
    "- 标准数据一共六种\n",
    "    - 数字类型 Number\n",
    "    - 字符串类型 str\n",
    "    - 列表 list\n",
    "    - 元组 tuple\n",
    "    - 字典 Dictionary\n",
    "    - 集合 set"
   ]
  },
  {
   "cell_type": "code",
   "execution_count": null,
   "metadata": {},
   "outputs": [],
   "source": []
  }
 ],
 "metadata": {
  "kernelspec": {
   "display_name": "Python 3",
   "language": "python",
   "name": "python3"
  },
  "language_info": {
   "codemirror_mode": {
    "name": "ipython",
    "version": 3
   },
   "file_extension": ".py",
   "mimetype": "text/x-python",
   "name": "python",
   "nbconvert_exporter": "python",
   "pygments_lexer": "ipython3",
   "version": "3.7.0"
  }
 },
 "nbformat": 4,
 "nbformat_minor": 2
}
