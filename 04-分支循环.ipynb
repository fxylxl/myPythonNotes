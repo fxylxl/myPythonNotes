{
 "cells": [
  {
   "cell_type": "markdown",
   "metadata": {},
   "source": [
    "## 三大结构\n",
    "- 顺序\n",
    "- 分支\n",
    "- 循环"
   ]
  },
  {
   "cell_type": "markdown",
   "metadata": {},
   "source": [
    "## 分支\n",
    "- 分支的基本语法\n",
    "     \n",
    "       if 条件表达式：\n",
    "           语句1：\n",
    "           语句2：\n",
    "           语句3：\n",
    "           ......\n",
    "- 条件表达式就是计算结果必须为布尔值的表达式\n",
    "- 表达式后面的冒号不能少\n",
    "- 注意if后面出现的语句，如果属于if语句块，则必须同一个缩进等级\n"
   ]
  },
  {
   "cell_type": "code",
   "execution_count": 2,
   "metadata": {},
   "outputs": [
    {
     "name": "stdout",
     "output_type": "stream",
     "text": [
      "去叫家长，孩纸\n",
      "我们不带你玩儿\n",
      "滚蛋\n"
     ]
    }
   ],
   "source": [
    "#if语句练习\n",
    "age = 17\n",
    "if age < 18:\n",
    "    print(\"去叫家长，孩纸\")\n",
    "    print(\"我们不带你玩儿\")\n",
    "    print(\"滚蛋\")"
   ]
  },
  {
   "cell_type": "code",
   "execution_count": 4,
   "metadata": {},
   "outputs": [
    {
     "name": "stdout",
     "output_type": "stream",
     "text": [
      "开车了，老司机\n"
     ]
    }
   ],
   "source": [
    "#if语句练习\n",
    "age = 20\n",
    "if age < 18:\n",
    "    print(\"去叫家长，孩纸\")\n",
    "    print(\"我们不带你玩儿\")\n",
    "    print(\"滚蛋\")\n",
    "\n",
    "print(\"开车了，老司机\")"
   ]
  },
  {
   "cell_type": "markdown",
   "metadata": {},
   "source": [
    "### 双向分支\n",
    "- if...else...语句\n",
    "\n",
    "        if 条件表达式：\n",
    "            语句1：\n",
    "            语句2：\n",
    "        else:\n",
    "            语句3：\n",
    "            ......\n",
    "            \n",
    "- 双向分支有两个分支\n",
    "- 层级问题，if和else一个层级，其他语句一个层级"
   ]
  },
  {
   "cell_type": "code",
   "execution_count": 2,
   "metadata": {},
   "outputs": [
    {
     "name": "stdout",
     "output_type": "stream",
     "text": [
      "请输入性别nan\n",
      "您的性别是：nan\n",
      "十遍代码\n"
     ]
    }
   ],
   "source": [
    "#input 的作用是\n",
    "#1、自屏幕上输出括号内的字符串\n",
    "#2、接收用户输入的内容并返回到程序\n",
    "#3、input的返回类型一定是字符串类型\n",
    "\n",
    "\n",
    "gender = input(\"请输入性别\")\n",
    "print(\"您的性别是：{0}\".format(gender))\n",
    "\n",
    "if gender == 'nan':\n",
    "    print(\"十遍代码\")\n",
    "else:\n",
    "    print(\"卡里的风景案例的看法来看大家\")\n"
   ]
  },
  {
   "cell_type": "code",
   "execution_count": null,
   "metadata": {},
   "outputs": [],
   "source": [
    "#考试成绩判断\n",
    "#90以上：优秀\n",
    "#80-90：良\n",
    "#70-80：中\n",
    "#60-70：平\n",
    "#60以下：我没你这傻学生"
   ]
  },
  {
   "cell_type": "code",
   "execution_count": 5,
   "metadata": {},
   "outputs": [
    {
     "name": "stdout",
     "output_type": "stream",
     "text": [
      "请输入学生成绩：55\n",
      "滚犊子\n"
     ]
    }
   ],
   "source": [
    "# score 存放学生成绩\n",
    "# 注意input返回的类型一定是字符串\n",
    "score = input(\"请输入学生成绩：\")\n",
    "#需要把str转换为int\n",
    "score = int(score)\n",
    "if score >= 90:\n",
    "    print(\"A\")\n",
    "if score >= 80 and score < 90 :\n",
    "    print(\"B\")\n",
    "if score >= 70 and score <80 :\n",
    "    print(\"C\")\n",
    "if score >=60 and score < 70 :\n",
    "    print(\"D\")\n",
    "if score < 60 :\n",
    "    print(\"滚犊子\")"
   ]
  },
  {
   "cell_type": "markdown",
   "metadata": {},
   "source": [
    "## 多路分支\n",
    "- 很多分支的情况，简称多路分支\n",
    "        \n",
    "        if 条件表达式：\n",
    "            语句1\n",
    "            ......\n",
    "        elif 条件表达式：\n",
    "            语句1\n",
    "            ......\n",
    "         elif 条件表达式：\n",
    "            语句1\n",
    "            ......\n",
    "         else:\n",
    "             语句1\n",
    "             ......\n",
    "- elif 可以有很多个\n",
    "- else可以没有\n",
    "            "
   ]
  },
  {
   "cell_type": "code",
   "execution_count": 8,
   "metadata": {},
   "outputs": [
    {
     "name": "stdout",
     "output_type": "stream",
     "text": [
      "请输入学生成绩：99\n",
      "A\n"
     ]
    }
   ],
   "source": [
    "# score 存放学生成绩\n",
    "# 注意input返回的类型一定是字符串\n",
    "score = input(\"请输入学生成绩：\")\n",
    "#需要把str转换为int\n",
    "score = int(score)\n",
    "if score >= 90:\n",
    "    print(\"A\")\n",
    "elif score >= 80:\n",
    "    print(\"B\")\n",
    "elif score >= 70:\n",
    "    print(\"C\")\n",
    "elif score >= 60:\n",
    "    print(\"D\")\n",
    "else:\n",
    "    print(\"滚犊子，我没有这样的学生\")\n",
    "    "
   ]
  },
  {
   "cell_type": "markdown",
   "metadata": {},
   "source": [
    "## if语句其他：\n",
    "- if语句可以嵌套使用，但不推荐\n",
    "- python没有switch-case语句"
   ]
  },
  {
   "cell_type": "markdown",
   "metadata": {},
   "source": [
    "# 循环语句\n",
    "- 重复执行某些固定的动作或者处理基本固定的事物\n",
    "- 分类\n",
    "    - for循环\n",
    "    - while循环\n",
    "## for循环\n",
    "- for循环\n",
    "            \n",
    "            for 变量 in 序列：\n",
    "                语句1\n",
    "                语句2\n",
    "                ..."
   ]
  },
  {
   "cell_type": "code",
   "execution_count": 10,
   "metadata": {},
   "outputs": [
    {
     "name": "stdout",
     "output_type": "stream",
     "text": [
      "zhangsan\n",
      "lisi\n",
      "wangwu\n",
      "zhangmazi\n"
     ]
    }
   ],
   "source": [
    "# 列表就是一列数字或者其他值，一般用中括号【】表示\n",
    "# 例如：['zhangsan','lisi','wangwu','zhangmazi']\n",
    "# 打印学生列表姓名\n",
    "for name in ['zhangsan','lisi','wangwu','zhangmazi']:\n",
    "    print(name)"
   ]
  },
  {
   "cell_type": "code",
   "execution_count": 13,
   "metadata": {},
   "outputs": [
    {
     "name": "stdout",
     "output_type": "stream",
     "text": [
      "zhangsan\n",
      "lisi\n",
      "wangwu\n",
      "wangwu是狗子狗子狗\n",
      "zhangmazi\n"
     ]
    }
   ],
   "source": [
    "for name in ['zhangsan','lisi','wangwu','zhangmazi']:\n",
    "    print(name)\n",
    "    if name == 'wangwu':\n",
    "        print(\"{0}是狗子狗子狗\".format(name))\n",
    "            "
   ]
  },
  {
   "cell_type": "markdown",
   "metadata": {},
   "source": [
    "## range介绍\n",
    "- 生成一个数字序列\n",
    "- 具体的范围可以设定"
   ]
  },
  {
   "cell_type": "code",
   "execution_count": 15,
   "metadata": {},
   "outputs": [
    {
     "name": "stdout",
     "output_type": "stream",
     "text": [
      "1\n",
      "2\n",
      "3\n",
      "4\n",
      "5\n",
      "6\n",
      "7\n",
      "8\n",
      "9\n",
      "10\n"
     ]
    }
   ],
   "source": [
    "# range练习\n",
    "# 打印从1到10的数字\n",
    "#注意，一般在python中一般包含左边的数字，不包含右边的数字\n",
    "#randint是特例，他左右都包含\n",
    "#range函数在pytho2中和pyth3中有严重的区别\n",
    "for i in range(1,11):\n",
    "    print(i)"
   ]
  },
  {
   "cell_type": "markdown",
   "metadata": {},
   "source": [
    "## for-else语句\n",
    "- 当for循环执行完毕之后，会执行else语句\n",
    "- else语句是可选的"
   ]
  },
  {
   "cell_type": "markdown",
   "metadata": {},
   "source": [
    "##  循环之break,continue,pass\n",
    "- break:无条件结束整个循环，简称循环猝死\n",
    "- continue:无条件结束本次循环，重新进入下一轮循环\n",
    "- pass： 表示略过"
   ]
  },
  {
   "cell_type": "code",
   "execution_count": 34,
   "metadata": {},
   "outputs": [
    {
     "name": "stdout",
     "output_type": "stream",
     "text": [
      "1是奇数\n",
      "3是奇数\n",
      "5是奇数\n",
      "7是奇数\n",
      "9是奇数\n",
      "2是偶数\n",
      "4是偶数\n",
      "6是偶数\n",
      "8是偶数\n",
      "10是偶数\n",
      "2是偶数\n",
      "4是偶数\n",
      "6是偶数\n",
      "8是偶数\n",
      "10是偶数\n"
     ]
    }
   ],
   "source": [
    "# 在1-10中，打印出奇数\n",
    "# for 循环中的变量标识，一般用i,k,m,n，或者index,idx,item之类\n",
    "\n",
    "\n",
    "#  2B写法\n",
    "for i in range(1,11):\n",
    "    if i % 2 == 0:\n",
    "        continue\n",
    "    else:\n",
    "        print(\"{0}是奇数\".format(i))\n",
    "\n",
    "# 普通写法\n",
    "for i in range(1,11):\n",
    "    if i%2 == 0:\n",
    "        print(\"{0}是偶数\".format(i))\n",
    "    \n",
    "#本案例完美显示continue的作用\n",
    "for i in range(1,11):\n",
    "    if i%2==1:\n",
    "        continue\n",
    "    print(\"{0}是偶数\".format(i))\n",
    "        \n",
    "# 在python中，如果循环变量名不重要，可以用下划线（_）代替\n",
    "\n"
   ]
  },
  {
   "cell_type": "code",
   "execution_count": 27,
   "metadata": {},
   "outputs": [
    {
     "name": "stdout",
     "output_type": "stream",
     "text": [
      "1\n",
      "2\n",
      "3\n",
      "4\n",
      "5\n",
      "6\n",
      "8\n",
      "9\n",
      "10\n",
      "11\n",
      "12\n",
      "13\n",
      "15\n",
      "16\n",
      "18\n",
      "19\n",
      "20\n",
      "22\n",
      "23\n",
      "24\n",
      "25\n",
      "26\n",
      "29\n",
      "30\n",
      "31\n",
      "32\n",
      "33\n",
      "34\n",
      "36\n",
      "38\n",
      "39\n",
      "40\n",
      "41\n",
      "43\n",
      "44\n",
      "45\n",
      "46\n",
      "48\n",
      "50\n",
      "51\n",
      "52\n",
      "53\n",
      "54\n",
      "55\n",
      "58\n",
      "59\n",
      "60\n",
      "61\n",
      "62\n",
      "64\n",
      "65\n",
      "66\n",
      "68\n",
      "69\n",
      "80\n",
      "81\n",
      "82\n",
      "83\n",
      "85\n",
      "86\n",
      "88\n",
      "89\n",
      "90\n",
      "92\n",
      "93\n",
      "94\n",
      "95\n",
      "96\n",
      "99\n"
     ]
    }
   ],
   "source": [
    "#找出1-100里面，去除包含7或者7的倍数的数字，打印出来\n",
    "for i in range(1,100):\n",
    "    if i%7 == 0 :\n",
    "        continue\n",
    "    else:\n",
    "        if i% 10 == 7:\n",
    "            continue\n",
    "        else:\n",
    "            if i>=70 and i<80:\n",
    "                continue\n",
    "            else:\n",
    "                print(i)"
   ]
  },
  {
   "cell_type": "code",
   "execution_count": null,
   "metadata": {},
   "outputs": [],
   "source": []
  }
 ],
 "metadata": {
  "kernelspec": {
   "display_name": "Python 3",
   "language": "python",
   "name": "python3"
  },
  "language_info": {
   "codemirror_mode": {
    "name": "ipython",
    "version": 3
   },
   "file_extension": ".py",
   "mimetype": "text/x-python",
   "name": "python",
   "nbconvert_exporter": "python",
   "pygments_lexer": "ipython3",
   "version": "3.7.0"
  }
 },
 "nbformat": 4,
 "nbformat_minor": 2
}
