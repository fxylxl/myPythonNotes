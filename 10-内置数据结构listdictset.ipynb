{
 "cells": [
  {
   "cell_type": "markdown",
   "metadata": {},
   "source": [
    "# 关于元祖的函数\n",
    "- 以下看代码\n"
   ]
  },
  {
   "cell_type": "code",
   "execution_count": 4,
   "metadata": {},
   "outputs": [
    {
     "data": {
      "text/plain": [
       "6"
      ]
     },
     "execution_count": 4,
     "metadata": {},
     "output_type": "execute_result"
    }
   ],
   "source": [
    "# len：获取元祖的长度\n",
    "t = (1,2,2,3,4,5)\n",
    "len(t)"
   ]
  },
  {
   "cell_type": "code",
   "execution_count": 5,
   "metadata": {},
   "outputs": [
    {
     "name": "stdout",
     "output_type": "stream",
     "text": [
      "5\n",
      "1\n"
     ]
    }
   ],
   "source": [
    "# max,min:最大最小值\n",
    "print(max(t))\n",
    "print(min(t))"
   ]
  },
  {
   "cell_type": "code",
   "execution_count": 8,
   "metadata": {},
   "outputs": [
    {
     "name": "stdout",
     "output_type": "stream",
     "text": [
      "(1, 2, 3, 4)\n",
      "()\n"
     ]
    }
   ],
   "source": [
    "# tuple：转化或者创建元祖\n",
    "l = [1,2,3,4]\n",
    "t = tuple(l)\n",
    "\n",
    "print(t)\n",
    "t = tuple()\n",
    "print(t)"
   ]
  },
  {
   "cell_type": "markdown",
   "metadata": {},
   "source": [
    "# 元祖的函数\n",
    "- 基本和list通用\n"
   ]
  },
  {
   "cell_type": "code",
   "execution_count": 14,
   "metadata": {},
   "outputs": [
    {
     "name": "stdout",
     "output_type": "stream",
     "text": [
      "5\n",
      "0\n",
      "1\n"
     ]
    }
   ],
   "source": [
    "# count:计算出现指定元素出现的次数\n",
    "t = (1,2,2,2,2,2,)\n",
    "c = t.count(2)\n",
    "print(c)\n",
    "\n",
    "i = t.index(1)\n",
    "print(i)\n",
    "\n",
    "# 如果查找的数有多个，则返回第一个的index\n",
    "i = t.index(2)\n",
    "print(i)"
   ]
  },
  {
   "cell_type": "markdown",
   "metadata": {},
   "source": [
    "# 元祖变量交换法\n",
    "- 两个变量交换"
   ]
  },
  {
   "cell_type": "code",
   "execution_count": 21,
   "metadata": {},
   "outputs": [
    {
     "name": "stdout",
     "output_type": "stream",
     "text": [
      "1\n",
      "3\n",
      "**************************************************\n",
      "3\n",
      "1\n",
      "ZZZZZZZZZZZZZZZZZZZZZZZZZZZZZZZZZZZZZZZZZZZZZZZZZZ\n",
      "1\n",
      "3\n"
     ]
    }
   ],
   "source": [
    "# 两个变量交换\n",
    "a = 1\n",
    "b = 3\n",
    "print(a)\n",
    "print(b)\n",
    "print(\"*\"*50)\n",
    "#java 程序员会这么写\n",
    "c = a\n",
    "a = b\n",
    "b = c\n",
    "print(a)\n",
    "print(b)\n",
    "print(\"Z\"*50)\n",
    "\n",
    "#python写法：\n",
    "a,b = b,a\n",
    "print(a)\n",
    "print(b)"
   ]
  },
  {
   "cell_type": "markdown",
   "metadata": {},
   "source": [
    "# 集合-set\n",
    "- 集合是高中数学中的一个概念\n",
    "- 一堆确定的无序的唯一的数据，集合中的每一个数据称为一个元素\n"
   ]
  },
  {
   "cell_type": "code",
   "execution_count": 24,
   "metadata": {},
   "outputs": [
    {
     "name": "stdout",
     "output_type": "stream",
     "text": [
      "<class 'set'>\n",
      "<class 'set'>\n",
      "{1, 2, 3, 4}\n"
     ]
    }
   ],
   "source": [
    "# 集合的定义\n",
    "s = set()\n",
    "print(type(s))\n",
    "\n",
    "# 此时，大括号里面一定要有值\n",
    "s = {1,2,3,4}\n",
    "print(type(s))\n",
    "print(s)"
   ]
  },
  {
   "cell_type": "code",
   "execution_count": 23,
   "metadata": {},
   "outputs": [
    {
     "name": "stdout",
     "output_type": "stream",
     "text": [
      "<class 'dict'>\n"
     ]
    }
   ],
   "source": [
    "# 如果用大括号定义，则定义的是一个dict类型\n",
    "d = {}\n",
    "print(type(d))"
   ]
  },
  {
   "cell_type": "markdown",
   "metadata": {},
   "source": [
    "# 集合的特征\n",
    "- 数据无序，即无索引和分片\n",
    "- 集合内部数据元素具有唯一性，可以用来排除重复数据\n",
    "- 集合内的数据，str,int,float,tuple,冰冻集合等，即内部只能放置可哈希的数据\n"
   ]
  },
  {
   "cell_type": "code",
   "execution_count": 27,
   "metadata": {},
   "outputs": [
    {
     "name": "stdout",
     "output_type": "stream",
     "text": [
      "{'e', 4, 5, 'o', 'l', 'v'}\n",
      "YES\n"
     ]
    }
   ],
   "source": [
    "# 集合序列操作\n",
    "# in, not in\n",
    "s = {4,5,'l','o','v','e'}\n",
    "print(s)\n",
    "\n",
    "if 'l' in s:\n",
    "    print(\"YES\")"
   ]
  },
  {
   "cell_type": "code",
   "execution_count": 34,
   "metadata": {},
   "outputs": [
    {
     "name": "stdout",
     "output_type": "stream",
     "text": [
      "1 2 3 4 5 6 B C A \n",
      "('l', 'love', 'lxl')\n",
      "(1, 2, 3)\n",
      "l love lxl\n",
      "1 2 3\n"
     ]
    }
   ],
   "source": [
    "# 遍历\n",
    "s = {1,2,3,4,5,6,'A','B','C'}\n",
    "for i in s:\n",
    "    print(i,end=' ')\n",
    "print()\n",
    "# 带有元祖的集合遍历\n",
    "s = {(1,2,3),('l','love','lxl')}\n",
    "for i in s:\n",
    "    print(i)\n",
    "\n",
    "for k,m,n in s:\n",
    "    print(k,m,n)"
   ]
  },
  {
   "cell_type": "markdown",
   "metadata": {},
   "source": [
    "# 集合的内涵\n"
   ]
  },
  {
   "cell_type": "code",
   "execution_count": 43,
   "metadata": {},
   "outputs": [
    {
     "name": "stdout",
     "output_type": "stream",
     "text": [
      "{1, 2, 33, 3, 4, 5, 44, 22, 24}\n",
      "{1, 2, 3, 4, 33, 5, 44, 22, 24}\n"
     ]
    }
   ],
   "source": [
    "# 普通的集合\n",
    "# 自动过滤重复的元素\n",
    "s = {1,24,2,33,1,2,33,44,22,1,2,3,4,5}\n",
    "print(s)\n",
    "\n",
    "\n",
    "# 普通集合的内涵\n",
    "ss = {i for i in s}\n",
    "print(ss)"
   ]
  },
  {
   "cell_type": "code",
   "execution_count": 44,
   "metadata": {},
   "outputs": [
    {
     "name": "stdout",
     "output_type": "stream",
     "text": [
      "{2, 4, 44, 22, 24}\n"
     ]
    }
   ],
   "source": [
    "# 带条件的集合内涵\n",
    "sss = {i for i in s if i % 2 == 0}\n",
    "print(sss)"
   ]
  },
  {
   "cell_type": "code",
   "execution_count": 46,
   "metadata": {},
   "outputs": [
    {
     "name": "stdout",
     "output_type": "stream",
     "text": [
      "{'lxllxl', 'lovelove', 'ii'}\n"
     ]
    }
   ],
   "source": [
    "# 多循环的集合内涵\n",
    "s1 = {1,2,3,4,5}\n",
    "s2 = {'i','love','lxl'}\n",
    "\n",
    "s = {m*n for m in s1 for n in s2 if m == 2}\n",
    "print(s)"
   ]
  },
  {
   "cell_type": "code",
   "execution_count": 49,
   "metadata": {},
   "outputs": [
    {
     "name": "stdout",
     "output_type": "stream",
     "text": [
      "{1, 2, 3, 222}\n",
      "{2, 3, 222}\n"
     ]
    }
   ],
   "source": [
    "#len, max, min:和其他函数一致\n",
    "# set 生成一个集合\n",
    "# add 向集合内添加元素\n",
    "s = {1,2,3}\n",
    "s.add(222)\n",
    "print(s)\n",
    "\n",
    "# clear 原地清空\n",
    "# copy\n",
    "# remove：移除指定的值\n",
    "# discard:移除集合中指定的值\n",
    "\n",
    "s.remove(1)\n",
    "print(s)"
   ]
  },
  {
   "cell_type": "code",
   "execution_count": 5,
   "metadata": {},
   "outputs": [
    {
     "name": "stdout",
     "output_type": "stream",
     "text": [
      "2\n",
      "1\n",
      "{3, 4, 5}\n"
     ]
    }
   ],
   "source": [
    "# pop 随机移除一个元素\n",
    "s = {1,2,3,4,5}\n",
    "d = s.pop()\n",
    "f = s.pop()\n",
    "print(f)\n",
    "print(d)\n",
    "print(s)"
   ]
  },
  {
   "cell_type": "markdown",
   "metadata": {},
   "source": [
    "# 集合函数\n",
    "# intersection: 交集\n",
    "# difference: 差集\n",
    "# union: 并集\n",
    "# issubset: 检查一个集合是不是另一个的子级\n",
    "# issuperset: 检查一个集合是否为另一个超集\n"
   ]
  },
  {
   "cell_type": "code",
   "execution_count": 9,
   "metadata": {},
   "outputs": [
    {
     "name": "stdout",
     "output_type": "stream",
     "text": [
      "{4, 5, 6}\n",
      "{1, 2, 3}\n",
      "False\n",
      "{1, 2, 3, 4, 5, 6, 7, 8, 9}\n"
     ]
    }
   ],
   "source": [
    "s1 = {1,2,3,4,5,6}\n",
    "s2 = {4,5,6,7,8,9}\n",
    "s_1 = s1.intersection(s2)\n",
    "print(s_1)\n",
    "\n",
    "s_2 = s1.difference(s2)\n",
    "print(s_2)\n",
    "\n",
    "s_3 = s1.issubset(s2)\n",
    "print(s_3)\n",
    "\n",
    "s_4 = s1.union(s2)\n",
    "print(s_4)"
   ]
  },
  {
   "cell_type": "markdown",
   "metadata": {},
   "source": [
    "# frozen set ：冰冻集合 就是不可以进行任何的修改的集合"
   ]
  },
  {
   "cell_type": "code",
   "execution_count": 10,
   "metadata": {},
   "outputs": [
    {
     "name": "stdout",
     "output_type": "stream",
     "text": [
      "frozenset()\n"
     ]
    }
   ],
   "source": [
    "s = frozenset()\n",
    "print(s)"
   ]
  },
  {
   "cell_type": "markdown",
   "metadata": {},
   "source": [
    "# dict 字典\n",
    "- 字典是一种组合数据，没有顺序的组合数据，数据以键值对形式出现\n"
   ]
  },
  {
   "cell_type": "code",
   "execution_count": 13,
   "metadata": {},
   "outputs": [
    {
     "name": "stdout",
     "output_type": "stream",
     "text": [
      "{}\n",
      "{}\n",
      "{'one': 1, 'two': 2, 'three': 3, 'four': 4, 'five': 5, 'six': 6, 'seven': 7}\n",
      "{'one': 1, 'two': 2, 'three': 3, 'four': 4}\n",
      "{'one': 1, 'wo': 2}\n"
     ]
    }
   ],
   "source": [
    "# 字典的创建\n",
    "d = {}\n",
    "print(d)\n",
    "\n",
    "d = dict()\n",
    "print(d)\n",
    "\n",
    "d = {'one':1,'two':2,'three':3,'four':4,'five':5,'six':6,'seven':7}\n",
    "print(d)\n",
    "\n",
    "# 利用关键字参数\n",
    "d = dict({'one':1,'two':2,'three':3,'four':4})\n",
    "print(d)\n",
    "\n",
    "d = dict( one=1,wo=2)\n",
    "print(d)"
   ]
  },
  {
   "cell_type": "markdown",
   "metadata": {},
   "source": [
    "# 字典的特征\n",
    "- 字典是序列类型，但是是无序序列，所以没有分片和索引\n",
    "- 字典中的数据每个都由键对组成,即kv对：\n",
    "    - key：必须是可哈希的值，比如：int,string,float,tuple,但是，list,set,dict 不行\n",
    "    - value:任何值"
   ]
  },
  {
   "cell_type": "code",
   "execution_count": 16,
   "metadata": {},
   "outputs": [
    {
     "name": "stdout",
     "output_type": "stream",
     "text": [
      "1\n",
      "{'one': 'eins', 'two': 2, 'three': 3}\n",
      "{'one': 'eins', 'three': 3}\n"
     ]
    }
   ],
   "source": [
    "# 字典常见操作\n",
    "\n",
    "#访问\n",
    "d = { \"one\":1,\"two\":2,\"three\":3}\n",
    "print(d[\"one\"])\n",
    "\n",
    "# 修改\n",
    "d[\"one\"] = \"eins\"\n",
    "print(d)\n",
    "\n",
    "\n",
    "# 删除某个操作\n",
    "# 使用del\n",
    "del d[\"two\"]\n",
    "print(d)"
   ]
  },
  {
   "cell_type": "code",
   "execution_count": 19,
   "metadata": {},
   "outputs": [
    {
     "name": "stdout",
     "output_type": "stream",
     "text": [
      "key\n"
     ]
    }
   ],
   "source": [
    "# 澄源检测 in，not in\n",
    "# 成员检测只检测key的内容\n",
    "\n",
    "d = { \"one\":1,\"two\":2,\"three\":3}\n",
    "\n",
    "if 2 in d:\n",
    "    print(\"value\")\n",
    "if \"two\" in d:\n",
    "    print(\"key\")"
   ]
  },
  {
   "cell_type": "code",
   "execution_count": 25,
   "metadata": {},
   "outputs": [
    {
     "name": "stdout",
     "output_type": "stream",
     "text": [
      "one 1\n",
      "two 2\n",
      "thtree 3\n",
      "four 4\n",
      "one 1\n",
      "two 2\n",
      "thtree 3\n",
      "four 4\n",
      "1\n",
      "2\n",
      "3\n",
      "4\n"
     ]
    }
   ],
   "source": [
    "# 遍历在python2和python3中区别很大，不能通用\n",
    "# 按key来使用for循环\n",
    "d = {\"one\":1,\"two\":2,\"thtree\":3,\"four\":4}\n",
    "# 方式一：使用key直接访问\n",
    "for k in d:\n",
    "    print(k,d[k])\n",
    "    \n",
    "# 方式二：\n",
    "for k in d.keys():\n",
    "    print(k,d[k])\n",
    "\n",
    "# 方式三：\n",
    "for v in d.values():\n",
    "    print(v)"
   ]
  },
  {
   "cell_type": "markdown",
   "metadata": {},
   "source": [
    "# 字典生成式"
   ]
  },
  {
   "cell_type": "code",
   "execution_count": 27,
   "metadata": {},
   "outputs": [
    {
     "name": "stdout",
     "output_type": "stream",
     "text": [
      "{'one': 1, 'two': 2, 'thtree': 3, 'four': 4}\n",
      "{'two': 2, 'four': 4}\n"
     ]
    }
   ],
   "source": [
    "d = {\"one\":1,\"two\":2,\"thtree\":3,\"four\":4}\n",
    "\n",
    "# 常规字典生成式\n",
    "dd = {k:v for k,v in d.items()}\n",
    "print(dd)\n",
    "\n",
    "# 加限制条件的字典生成式\n",
    "dd = {k:v for k,v in d.items() if v % 2 == 0}\n",
    "print(dd)"
   ]
  },
  {
   "cell_type": "markdown",
   "metadata": {},
   "source": [
    "# 字典相关函数"
   ]
  },
  {
   "cell_type": "code",
   "execution_count": 28,
   "metadata": {},
   "outputs": [],
   "source": [
    "# 通用函数：len,max,min,dict\n",
    "# str(字典)，返回字典的字符串格式"
   ]
  },
  {
   "cell_type": "code",
   "execution_count": 29,
   "metadata": {},
   "outputs": [
    {
     "name": "stdout",
     "output_type": "stream",
     "text": [
      "dict_items([('one', 1), ('two', 2), ('thtree', 3), ('four', 4)])\n"
     ]
    }
   ],
   "source": [
    "# clear：清空\n",
    "# items: 返回字典的键值对组成的元组格式\n",
    "d = {\"one\":1,\"two\":2,\"thtree\":3,\"four\":4}\n",
    "i = d.items()\n",
    "print(i)"
   ]
  },
  {
   "cell_type": "code",
   "execution_count": 32,
   "metadata": {},
   "outputs": [
    {
     "name": "stdout",
     "output_type": "stream",
     "text": [
      "1\n",
      "1\n",
      "100\n"
     ]
    },
    {
     "ename": "KeyError",
     "evalue": "'onewww'",
     "output_type": "error",
     "traceback": [
      "\u001b[1;31m---------------------------------------------------------------------------\u001b[0m",
      "\u001b[1;31mKeyError\u001b[0m                                  Traceback (most recent call last)",
      "\u001b[1;32m<ipython-input-32-ff93b4a0d8a6>\u001b[0m in \u001b[0;36m<module>\u001b[1;34m()\u001b[0m\n\u001b[0;32m      7\u001b[0m \u001b[1;33m\u001b[0m\u001b[0m\n\u001b[0;32m      8\u001b[0m \u001b[1;31m# 与以下的区别\u001b[0m\u001b[1;33m\u001b[0m\u001b[1;33m\u001b[0m\u001b[0m\n\u001b[1;32m----> 9\u001b[1;33m \u001b[0mprint\u001b[0m\u001b[1;33m(\u001b[0m\u001b[0md\u001b[0m\u001b[1;33m[\u001b[0m\u001b[1;34m\"onewww\"\u001b[0m\u001b[1;33m]\u001b[0m\u001b[1;33m)\u001b[0m\u001b[1;33m\u001b[0m\u001b[0m\n\u001b[0m",
      "\u001b[1;31mKeyError\u001b[0m: 'onewww'"
     ]
    }
   ],
   "source": [
    "# get:根据指定键，返回对应的值\n",
    "d = {\"one\":1,\"two\":2,\"thtree\":3,\"four\":4}\n",
    "print(d.get(\"one\"))\n",
    "# get 默认值是None，可以设置\n",
    "print(d.get(\"one\",100)) # 找到键值则返回对应的数据\n",
    "print(d.get(\"onewww\",100)) # 找不到键值，返回设置的100\n",
    "\n",
    "# 与以下的区别\n",
    "print(d[\"onewww\"])"
   ]
  },
  {
   "cell_type": "code",
   "execution_count": 35,
   "metadata": {},
   "outputs": [
    {
     "name": "stdout",
     "output_type": "stream",
     "text": [
      "{'eins': 'adadada', 'zwei': 'adadada', 'dree': 'adadada'}\n"
     ]
    }
   ],
   "source": [
    "# fromkeys:使用指定的序列作为键，使用一个值作为字典的所有的值\n",
    "l = [\"eins\",\"zwei\",\"dree\"]\n",
    "# 注意fromkeys两个参数的类型\n",
    "d = dict.fromkeys(l,\"adadada\")\n",
    "print(d)"
   ]
  },
  {
   "cell_type": "code",
   "execution_count": null,
   "metadata": {},
   "outputs": [],
   "source": []
  }
 ],
 "metadata": {
  "kernelspec": {
   "display_name": "Python 3",
   "language": "python",
   "name": "python3"
  },
  "language_info": {
   "codemirror_mode": {
    "name": "ipython",
    "version": 3
   },
   "file_extension": ".py",
   "mimetype": "text/x-python",
   "name": "python",
   "nbconvert_exporter": "python",
   "pygments_lexer": "ipython3",
   "version": "3.7.0"
  }
 },
 "nbformat": 4,
 "nbformat_minor": 2
}
